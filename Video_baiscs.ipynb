{
 "cells": [
  {
   "attachments": {},
   "cell_type": "markdown",
   "metadata": {},
   "source": [
    "# Video Baiscs"
   ]
  },
  {
   "cell_type": "code",
   "execution_count": 2,
   "metadata": {},
   "outputs": [],
   "source": [
    "# import necessary modules \n",
    "import numpy as np\n",
    "import cv2\n",
    "import time "
   ]
  },
  {
   "attachments": {},
   "cell_type": "markdown",
   "metadata": {},
   "source": [
    "# Capturing and saving the Video"
   ]
  },
  {
   "cell_type": "code",
   "execution_count": 4,
   "metadata": {},
   "outputs": [],
   "source": [
    "cap=cv2.VideoCapture('face.mp4')\n",
    "width=int(cap.get(cv2.CAP_PROP_FRAME_WIDTH))\n",
    "height=int(cap.get(cv2.CAP_PROP_FRAME_HEIGHT))\n",
    "writer=cv2.VideoWriter('face.mp4',cv2.VideoWriter.fourcc(*'DIVX'),20,(width,height))\n",
    "while cap.isOpened():\n",
    "\n",
    "    \n",
    "    ret,frame=cap.read()\n",
    "    if ret ==True:\n",
    "        time.sleep(1/20)\n",
    "        writer.write(frame)\n",
    "        cv2.imshow('frame',frame)\n",
    "        if cv2.waitKey(1) & 0xFF==27:\n",
    "            break\n",
    "    else:\n",
    "        break\n",
    "cap.release()\n",
    "writer.release()\n",
    "cv2.destroyAllWindows()"
   ]
  },
  {
   "attachments": {},
   "cell_type": "markdown",
   "metadata": {},
   "source": [
    "## get the video from the camera  and drawing a static rectangle in it\n"
   ]
  },
  {
   "cell_type": "code",
   "execution_count": 5,
   "metadata": {},
   "outputs": [],
   "source": [
    "cap=cv2.VideoCapture(0)\n",
    "width=int(cap.get(cv2.CAP_PROP_FRAME_WIDTH))\n",
    "height=int(cap.get(cv2.CAP_PROP_FRAME_HEIGHT))\n",
    "#top left corner\n",
    "x=height//2\n",
    "y=width//2\n",
    "# width and height of rectangle\n",
    "w=width//4\n",
    "h=height//4\n",
    "#bottom right x+w,y+h\n",
    "writer=cv2.VideoWriter('face.mp4',cv2.VideoWriter.fourcc(*'DIVX'),20,(width,height))\n",
    "while True:\n",
    "    ret,frame=cap.read()\n",
    "    writer.write(frame)\n",
    "\n",
    "    cv2.rectangle(frame,(x,y),(x+w,y+h),color=(0,0,255),thickness=4)\n",
    "    cv2.imshow('frame',frame)\n",
    "    if cv2.waitKey(1) & 0xFF==27:\n",
    "        break\n",
    "cap.release()\n",
    "writer.release()\n",
    "cv2.destroyAllWindows()"
   ]
  },
  {
   "attachments": {},
   "cell_type": "markdown",
   "metadata": {},
   "source": [
    "## Interactively draw a 2 point rectangle on Video\n"
   ]
  },
  {
   "cell_type": "code",
   "execution_count": 5,
   "metadata": {},
   "outputs": [],
   "source": [
    "\n",
    "## callback function rectangle \n",
    "def draw_rectangle(event,x,y,flags,param):\n",
    "    global pt1,pt2,topLeft_clicked,botRight_clicked\n",
    "    if event ==cv2.EVENT_LBUTTONDOWN:\n",
    "        #reset the rectangle ie to earse the rectangle created in the previsous click\n",
    "        if topLeft_clicked == True and botRight_clicked ==True:\n",
    "            pt1 = (0,0)\n",
    "            pt2 = (0,0)\n",
    "            topLeft_clicked=False\n",
    "            botRight_clicked=False\n",
    "        if topLeft_clicked==False:\n",
    "            pt1=(x,y)\n",
    "            topLeft_clicked=True\n",
    "        elif botRight_clicked==False:\n",
    "            pt2=(x,y)\n",
    "            botRight_clicked=True\n",
    "\n",
    "\n",
    "## global variables\n",
    "pt1 = (0,0)\n",
    "pt2 = (0,0)\n",
    "topLeft_clicked=False\n",
    "botRight_clicked=False\n",
    "\n",
    "## connect to the callback \n",
    "cap=cv2.VideoCapture(0)\n",
    "cv2.namedWindow(\"Test\")\n",
    "cv2.setMouseCallback('Test',draw_rectangle)\n",
    "while True:\n",
    "    ret,frame=cap.read()\n",
    "   \n",
    "    #drawing on the frame based off the global varibles \n",
    "    if topLeft_clicked:\n",
    "        cv2.circle(frame,center=pt1,radius=5,color=(0,0,255),thickness=-1)\n",
    "    if topLeft_clicked and botRight_clicked:\n",
    "        cv2.rectangle(frame,pt1,pt2,(0,0,255),3)\n",
    "    cv2.imshow('Test',frame)\n",
    "    if cv2.waitKey(1) & 0xFF==27:\n",
    "        break\n",
    "\n",
    "cap.release()\n",
    "cv2.destroyAllWindows()"
   ]
  },
  {
   "attachments": {},
   "cell_type": "markdown",
   "metadata": {},
   "source": [
    "## Blue circle generation when clicked "
   ]
  },
  {
   "cell_type": "code",
   "execution_count": 12,
   "metadata": {},
   "outputs": [],
   "source": [
    "\n",
    "def draw_circle(event,x,y,flags,param):\n",
    "    global pt1,Left_clicked\n",
    "    if event ==cv2.EVENT_LBUTTONDOWN:\n",
    "        #reset the circle ie to earse the rectangle created in the previsous click\n",
    "        pt1 = (x,y)\n",
    "        Left_clicked = False\n",
    "    if event==cv2.EVENT_LBUTTONUP:\n",
    "        Left_clicked = True\n",
    "\n",
    "# global variables \n",
    "pt1=(0,0)\n",
    "Left_clicked=False\n",
    "cap=cv2.VideoCapture(0)\n",
    "cv2.namedWindow(\"Test\")\n",
    "cv2.setMouseCallback('Test',draw_circle)\n",
    "\n",
    "while True:\n",
    "    ret ,frame= cap.read()\n",
    "    if Left_clicked:\n",
    "        cv2.circle(frame,center=pt1,radius=10,color=(0,0,255),thickness=3)\n",
    "    cv2.imshow('Test',frame)\n",
    "    if cv2.waitKey(1) & 0xFF==27:\n",
    "        break\n",
    "\n",
    "cap.release()\n",
    "cv2.destroyAllWindows()\n",
    "\n"
   ]
  },
  {
   "cell_type": "code",
   "execution_count": null,
   "metadata": {},
   "outputs": [],
   "source": []
  }
 ],
 "metadata": {
  "kernelspec": {
   "display_name": "Python 3",
   "language": "python",
   "name": "python3"
  },
  "language_info": {
   "codemirror_mode": {
    "name": "ipython",
    "version": 3
   },
   "file_extension": ".py",
   "mimetype": "text/x-python",
   "name": "python",
   "nbconvert_exporter": "python",
   "pygments_lexer": "ipython3",
   "version": "3.9.7"
  },
  "orig_nbformat": 4
 },
 "nbformat": 4,
 "nbformat_minor": 2
}
